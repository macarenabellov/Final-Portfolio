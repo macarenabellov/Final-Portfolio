{
 "cells": [
  {
   "cell_type": "markdown",
   "id": "8b297612",
   "metadata": {},
   "source": [
    "## Life Expectancy By Country\n",
    "\n",
    "In this project, we will investigate a dataset containing information about the average life expectancy in 158 different countries. We will specifically look at how a country’s economic success (GDP)  might impact the life expectancy in that area."
   ]
  },
  {
   "cell_type": "code",
   "execution_count": 3,
   "id": "ee619a20",
   "metadata": {},
   "outputs": [
    {
     "name": "stdout",
     "output_type": "stream",
     "text": [
      "               Country  Life Expectancy          GDP\n",
      "0          Afghanistan         58.19375   340.015425\n",
      "1              Albania         75.15625  2119.726679\n",
      "2              Algeria         73.61875  2847.853392\n",
      "3               Angola         49.01875  1975.143045\n",
      "4  Antigua and Barbuda         75.05625  9759.305728\n",
      "[62.325     72.525     75.4421875]\n",
      "2938.0781155\n",
      "[56.3375  64.34375 71.7375 ]\n",
      "[72.965625 75.15625  80.521875]\n"
     ]
    },
    {
     "data": {
      "image/png": "[encoded data removed]",
      "text/plain": [
       "<Figure size 640x480 with 1 Axes>"
      ]
     },
     "metadata": {},
     "output_type": "display_data"
    }
   ],
   "source": [
    "import numpy as np\n",
    "import pandas as pd\n",
    "import matplotlib.pyplot as plt\n",
    "\n",
    "data = pd.read_csv(\"country_data.csv\")\n",
    "\n",
    "# Let’s get a sense of what this data looks like.\n",
    "print(data.head())\n",
    "\n",
    "# Finding the quartiles of life_expectancy\n",
    "life_expectancy = data['Life Expectancy']\n",
    "life_expectancy_quartiles = np.quantile(life_expectancy, [0.25, 0.50, 0.75])\n",
    "print(life_expectancy_quartiles)\n",
    "\n",
    "# Storing the median in a variable named median_gdp\n",
    "gdp = data['GDP']\n",
    "median_gdp = np.quantile(gdp, 0.50)\n",
    "print(median_gdp)\n",
    "\n",
    "## Storing the GDP less than or equal to the median values.\n",
    "low_gdp = data[gdp <= median_gdp]\n",
    "high_gdp = data[gdp >= median_gdp]\n",
    "\n",
    "low_gdp_quartiles = np.quantile(low_gdp['Life Expectancy'], [0.25, 0.50, 0.75])\n",
    "print(low_gdp_quartiles)\n",
    "\n",
    "high_gdp_quartiles = np.quantile(high_gdp['Life Expectancy'], [0.25, 0.50, 0.75])\n",
    "print(high_gdp_quartiles)\n",
    "\n",
    "plt.hist(high_gdp['Life Expectancy'], alpha = 0.5, label = 'High GDP')\n",
    "plt.hist(low_gdp['Life Expectancy'], alpha = 0.5, label = 'Low GDP')\n",
    "plt.legend()\n",
    "plt.show()"
   ]
  },
  {
   "cell_type": "markdown",
   "id": "a840f627",
   "metadata": {},
   "source": [
    "## Conclusion\n",
    "We can now truly see the impact GDP has on life expectancy."
   ]
  },
  {
   "cell_type": "code",
   "execution_count": null,
   "id": "b6425e58",
   "metadata": {},
   "outputs": [],
   "source": []
  }
 ],
 "metadata": {
  "kernelspec": {
   "display_name": "Python 3 (ipykernel)",
   "language": "python",
   "name": "python3"
  },
  "language_info": {
   "codemirror_mode": {
    "name": "ipython",
    "version": 3
   },
   "file_extension": ".py",
   "mimetype": "text/x-python",
   "name": "python",
   "nbconvert_exporter": "python",
   "pygments_lexer": "ipython3",
   "version": "3.11.3"
  }
 },
 "nbformat": 4,
 "nbformat_minor": 5
}
